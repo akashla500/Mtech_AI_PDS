{
 "cells": [
  {
   "cell_type": "markdown",
   "metadata": {},
   "source": [
    "# Numpy Exercise  <img src = \"numpy1.png\">\n",
    "###### Authored by T.K.Senthil Kumar"
   ]
  },
  {
   "cell_type": "markdown",
   "metadata": {},
   "source": [
    "#### 1. Create a numpy array with the number of elements equals your age. The value of array elements is a random number between 10 to your age "
   ]
  },
  {
   "cell_type": "code",
   "execution_count": 1,
   "metadata": {},
   "outputs": [
    {
     "name": "stdout",
     "output_type": "stream",
     "text": [
      "[13 15 11 15 11 21 13 15 10 13 14 10 20 14 12 18 12 19 16 21 19 12 20]\n"
     ]
    }
   ],
   "source": [
    "#Solution\n",
    "\n",
    "import numpy as np\n",
    "nparray = np.random.randint(10,23,23)\n",
    "print(nparray)\n"
   ]
  },
  {
   "cell_type": "markdown",
   "metadata": {},
   "source": [
    "#### 2. Create a numpy array between 1 to 50 with the span(space) of 2 and print the length of the array"
   ]
  },
  {
   "cell_type": "code",
   "execution_count": 2,
   "metadata": {},
   "outputs": [
    {
     "name": "stdout",
     "output_type": "stream",
     "text": [
      "[ 1  3  5  7  9 11 13 15 17 19 21 23 25 27 29 31 33 35 37 39 41 43 45 47\n",
      " 49]\n",
      "25\n"
     ]
    }
   ],
   "source": [
    "# Solution\n",
    "\n",
    "nparray = np.arange(1, 50, 2)\n",
    "print(nparray)\n",
    "print(len(nparray))\n"
   ]
  },
  {
   "cell_type": "markdown",
   "metadata": {},
   "source": [
    "#### 3. Create an equally spaced numpy array with 27 elements between 4 and 7 "
   ]
  },
  {
   "cell_type": "code",
   "execution_count": 3,
   "metadata": {},
   "outputs": [
    {
     "name": "stdout",
     "output_type": "stream",
     "text": [
      "[4.         4.11538462 4.23076923 4.34615385 4.46153846 4.57692308\n",
      " 4.69230769 4.80769231 4.92307692 5.03846154 5.15384615 5.26923077\n",
      " 5.38461538 5.5        5.61538462 5.73076923 5.84615385 5.96153846\n",
      " 6.07692308 6.19230769 6.30769231 6.42307692 6.53846154 6.65384615\n",
      " 6.76923077 6.88461538 7.        ]\n"
     ]
    }
   ],
   "source": [
    "# Solution\n",
    "\n",
    "nparray = np.linspace(4, 7, 27)\n",
    "print(nparray)\n"
   ]
  },
  {
   "cell_type": "markdown",
   "metadata": {},
   "source": [
    "#### 4. Create a matrix of size (5 x 4) with random numbers and round off the each elements by only 2 fractional points."
   ]
  },
  {
   "cell_type": "code",
   "execution_count": 4,
   "metadata": {},
   "outputs": [
    {
     "name": "stdout",
     "output_type": "stream",
     "text": [
      "[[0.39 0.9  0.03 0.21]\n",
      " [0.9  0.73 0.38 0.07]\n",
      " [0.02 0.83 0.04 0.75]\n",
      " [0.08 0.46 0.58 0.2 ]\n",
      " [0.29 0.85 0.98 0.9 ]]\n"
     ]
    }
   ],
   "source": [
    "# Solution\n",
    "\n",
    "nparray = np.random.rand(5,4)\n",
    "nparray = np.around(nparray, decimals=2)\n",
    "print(nparray)"
   ]
  },
  {
   "cell_type": "markdown",
   "metadata": {},
   "source": [
    "#### 5. Create a matrix of size (5x5) with random integers between 5 to 15"
   ]
  },
  {
   "cell_type": "code",
   "execution_count": 5,
   "metadata": {},
   "outputs": [
    {
     "name": "stdout",
     "output_type": "stream",
     "text": [
      "[[ 7 15 11 13  9]\n",
      " [15 12  6 12 11]\n",
      " [ 6 15  8 12  8]\n",
      " [13  7 12 12 15]\n",
      " [14  6 13  7 14]]\n"
     ]
    }
   ],
   "source": [
    "# Solution\n",
    "\n",
    "nparray = np.random.randint(5,16,(5,5))\n",
    "print(nparray)"
   ]
  },
  {
   "cell_type": "markdown",
   "metadata": {},
   "source": [
    "#### 6. Create the one dimensional array of zeros of random length below 20 with the data type int32"
   ]
  },
  {
   "cell_type": "code",
   "execution_count": 6,
   "metadata": {},
   "outputs": [
    {
     "name": "stdout",
     "output_type": "stream",
     "text": [
      "[0 0 0 0 0 0 0 0 0 0 0 0 0 0 0 0 0 0 0]\n"
     ]
    }
   ],
   "source": [
    "# Solution\n",
    "\n",
    "nparray = np.zeros(np.random.randint(20),dtype='int32')\n",
    "print(nparray)\n"
   ]
  },
  {
   "cell_type": "markdown",
   "metadata": {},
   "source": [
    "#### 7. Create a two dimensional array of ones of random row and column lengths with the data type of float32 "
   ]
  },
  {
   "cell_type": "code",
   "execution_count": 7,
   "metadata": {},
   "outputs": [
    {
     "name": "stdout",
     "output_type": "stream",
     "text": [
      "[[1. 1. 1. 1. 1.]\n",
      " [1. 1. 1. 1. 1.]\n",
      " [1. 1. 1. 1. 1.]\n",
      " [1. 1. 1. 1. 1.]\n",
      " [1. 1. 1. 1. 1.]\n",
      " [1. 1. 1. 1. 1.]\n",
      " [1. 1. 1. 1. 1.]\n",
      " [1. 1. 1. 1. 1.]\n",
      " [1. 1. 1. 1. 1.]\n",
      " [1. 1. 1. 1. 1.]\n",
      " [1. 1. 1. 1. 1.]\n",
      " [1. 1. 1. 1. 1.]\n",
      " [1. 1. 1. 1. 1.]\n",
      " [1. 1. 1. 1. 1.]\n",
      " [1. 1. 1. 1. 1.]]\n"
     ]
    }
   ],
   "source": [
    "# Solution\n",
    "\n",
    "nparray = np.ones((np.random.randint(20),np.random.randint(20)),dtype='float32')\n",
    "print(nparray)\n"
   ]
  },
  {
   "cell_type": "markdown",
   "metadata": {},
   "source": [
    "#### 8. Create a matrix exactly as same as shown below and print its shape, type and dtype\n",
    "<img src = \"np_mat1.png\">"
   ]
  },
  {
   "cell_type": "code",
   "execution_count": 8,
   "metadata": {},
   "outputs": [
    {
     "name": "stdout",
     "output_type": "stream",
     "text": [
      "(5, 5)\n",
      "<class 'numpy.ndarray'>\n",
      "int64\n"
     ]
    }
   ],
   "source": [
    "# Solution\n",
    "\n",
    "nparray = np.array(([9, 25, 50, 34, 45], [3, 34, 34, 65, 2], [5, 7, 3, 76, 3], [7, 8, 6, 54, 6], [23, 12, 8, 5, 8]))\n",
    "print(nparray.shape)\n",
    "print(type(nparray))\n",
    "print(nparray.dtype)\n"
   ]
  },
  {
   "cell_type": "markdown",
   "metadata": {},
   "source": [
    "#### 9. Access the center pixel of the matrix defined in the question no 8 ( Don't enter the row and column index explicitely)"
   ]
  },
  {
   "cell_type": "code",
   "execution_count": 9,
   "metadata": {},
   "outputs": [
    {
     "name": "stdout",
     "output_type": "stream",
     "text": [
      "3\n"
     ]
    }
   ],
   "source": [
    "# Solution\n",
    "\n",
    "row = int(len(nparray)/2)\n",
    "coloumn = int(len(nparray.T)/2)\n",
    "print(nparray[row,coloumn])\n"
   ]
  },
  {
   "cell_type": "markdown",
   "metadata": {},
   "source": [
    "#### 10. Print the all the elements of 3rd row of the matrix"
   ]
  },
  {
   "cell_type": "code",
   "execution_count": 10,
   "metadata": {},
   "outputs": [
    {
     "name": "stdout",
     "output_type": "stream",
     "text": [
      "[ 5  7  3 76  3]\n"
     ]
    }
   ],
   "source": [
    "# Solution\n",
    "\n",
    "print(nparray[2,:])\n"
   ]
  },
  {
   "cell_type": "markdown",
   "metadata": {},
   "source": [
    "#### 11. Print the all the elements of 4th columns of the matrix"
   ]
  },
  {
   "cell_type": "code",
   "execution_count": 11,
   "metadata": {},
   "outputs": [
    {
     "name": "stdout",
     "output_type": "stream",
     "text": [
      "[34 65 76 54  5]\n"
     ]
    }
   ],
   "source": [
    "# Solution\n",
    "\n",
    "print(nparray[:,3])\n"
   ]
  },
  {
   "cell_type": "markdown",
   "metadata": {},
   "source": [
    "#### 12. Print the 4 corner pixels of the matrix"
   ]
  },
  {
   "cell_type": "code",
   "execution_count": 12,
   "metadata": {},
   "outputs": [
    {
     "name": "stdout",
     "output_type": "stream",
     "text": [
      "The 4 corner pixels of matrix is  9 45 23 8\n"
     ]
    }
   ],
   "source": [
    "# Solution\n",
    "\n",
    "print(\"The 4 corner pixels of matrix is \", nparray[0,0], nparray[0,-1], nparray[-1,0], nparray[-1,-1])\n"
   ]
  },
  {
   "cell_type": "markdown",
   "metadata": {},
   "source": [
    "#### 13. Create three matrix m1,m2,m3 with the elements grouped in the figure below\n",
    "<img src = \"np_mat2.png\">"
   ]
  },
  {
   "cell_type": "code",
   "execution_count": 13,
   "metadata": {},
   "outputs": [
    {
     "name": "stdout",
     "output_type": "stream",
     "text": [
      "m1 =  [[50 34]\n",
      " [34 65]] \n",
      "m2 =  [[ 7  8]\n",
      " [23 12]] \n",
      "m3 =  [[ 3 76  3]\n",
      " [ 6 54  6]\n",
      " [ 8  5  8]]\n"
     ]
    }
   ],
   "source": [
    "# Solution \n",
    "\n",
    "m1 = nparray[:2, 2:-1]\n",
    "m2 = nparray[3:, :2]\n",
    "m3 = nparray[2:,2:]\n",
    "print(\"m1 = \", m1, \"\\nm2 = \", m2, \"\\nm3 = \", m3)\n"
   ]
  },
  {
   "cell_type": "markdown",
   "metadata": {},
   "source": [
    "#### 14. Reshape all the three matrix segmented in the above task in to three  1-dimensional vector."
   ]
  },
  {
   "cell_type": "code",
   "execution_count": 14,
   "metadata": {},
   "outputs": [
    {
     "name": "stdout",
     "output_type": "stream",
     "text": [
      "\n",
      "Converting using flatten (for converting to perfect 1D array)\n",
      "m1 =  [50 34 34 65] \n",
      "m2 =  [ 7  8 23 12] \n",
      "m3 =  [ 3 76  3  6 54  6  8  5  8]\n",
      "Converting using reshape\n",
      "m1 =  [[50 34 34 65]] \n",
      "m2 =  [[ 7  8 23 12]] \n",
      "m3 =  [[ 3 76  3  6 54  6  8  5  8]]\n"
     ]
    }
   ],
   "source": [
    "# Solution\n",
    "\n",
    "m1 = m1.flatten()\n",
    "m2 = m2.flatten()\n",
    "m3 = m3.flatten()\n",
    "print(\"\\nConverting using flatten (for converting to perfect 1D array)\")\n",
    "print(\"m1 = \", m1, \"\\nm2 = \", m2, \"\\nm3 = \", m3)\n",
    "\n",
    "m1 = nparray[:2, 2:-1]\n",
    "m2 = nparray[3:, :2]    # for getting the old values of m1,m2,m3\n",
    "m3 = nparray[2:,2:]\n",
    "\n",
    "m1 = m1.reshape(1,4)\n",
    "m2 = m2.reshape(1,4)\n",
    "m3 = m3.reshape(1,9)\n",
    "print(\"Converting using reshape\")\n",
    "print(\"m1 = \", m1, \"\\nm2 = \", m2, \"\\nm3 = \", m3)\n"
   ]
  },
  {
   "cell_type": "markdown",
   "metadata": {},
   "source": [
    "#### 15. Concatenate the matrix m1 and m2 in both vertical and horizontal direction"
   ]
  },
  {
   "cell_type": "code",
   "execution_count": 15,
   "metadata": {},
   "outputs": [
    {
     "name": "stdout",
     "output_type": "stream",
     "text": [
      "Concatenation in horizontal of m1 and m2 is  [[50 34 34 65  7  8 23 12]]\n",
      "Concatenation in vertical of m1 and m2 is  [[50 34 34 65]\n",
      " [ 7  8 23 12]]\n"
     ]
    }
   ],
   "source": [
    "# Solution\n",
    "\n",
    "print(\"Concatenation in horizontal of m1 and m2 is \", np.concatenate((m1,m2), axis=1))\n",
    "print(\"Concatenation in vertical of m1 and m2 is \", np.concatenate((m1,m2)))\n"
   ]
  },
  {
   "cell_type": "markdown",
   "metadata": {},
   "source": [
    "#### 16. Add, Subtract, multiply, divide the matrixes m1 and m2"
   ]
  },
  {
   "cell_type": "code",
   "execution_count": 16,
   "metadata": {},
   "outputs": [
    {
     "name": "stdout",
     "output_type": "stream",
     "text": [
      "Addition of m1 and m2 is  [[57 42 57 77]]\n",
      "Subtraction of m1 and m2 is  [[43 26 11 53]]\n",
      "Multiplication of m1 and m2 is  [[350 272 782 780]]\n",
      "Division of m1 and m2 is  [[7.14285714 4.25       1.47826087 5.41666667]]\n"
     ]
    }
   ],
   "source": [
    "# Solution\n",
    "\n",
    "print(\"Addition of m1 and m2 is \", m1+m2)\n",
    "print(\"Subtraction of m1 and m2 is \", m1-m2)\n",
    "print(\"Multiplication of m1 and m2 is \", m1*m2)\n",
    "print(\"Division of m1 and m2 is \", m1/m2)\n"
   ]
  },
  {
   "cell_type": "markdown",
   "metadata": {},
   "source": [
    "#### 17. Add the m1 with m3 by removing the first row and last column of m3"
   ]
  },
  {
   "cell_type": "code",
   "execution_count": 17,
   "metadata": {},
   "outputs": [
    {
     "name": "stdout",
     "output_type": "stream",
     "text": [
      "Addition of m1 and m3 after removing the first row and last column of m3 [[56 88]\n",
      " [42 70]]\n"
     ]
    }
   ],
   "source": [
    "# Solution\n",
    "\n",
    "m1 = nparray[:2, 2:-1]\n",
    "m3 = nparray[2:,2:]  # for getting the old values of m1, m3\n",
    "m3 = m3[1:,:2]\n",
    "print(\"Addition of m1 and m3 after removing the first row and last column of m3\", m1+m3)\n"
   ]
  },
  {
   "cell_type": "markdown",
   "metadata": {},
   "source": [
    "#### 18. Form the matrix m4 by concatenating (as a new row) the vector [me1, me2] with the matrix m1, where me1 and me2 are the mean values of each column on m1."
   ]
  },
  {
   "cell_type": "code",
   "execution_count": 18,
   "metadata": {},
   "outputs": [
    {
     "name": "stdout",
     "output_type": "stream",
     "text": [
      "[[50.  34. ]\n",
      " [34.  65. ]\n",
      " [42.  49.5]]\n"
     ]
    }
   ],
   "source": [
    "# Solution\n",
    "\n",
    "m4 = m1.mean(axis=0)\n",
    "m4 = m4.reshape((1, 2))\n",
    "m4 = np.concatenate((m1,m4), axis=0)\n",
    "print(m4)\n"
   ]
  },
  {
   "cell_type": "markdown",
   "metadata": {},
   "source": [
    "#### 19. Perform the matrix multiplication between m3 and m4"
   ]
  },
  {
   "cell_type": "code",
   "execution_count": 19,
   "metadata": {},
   "outputs": [
    {
     "name": "stdout",
     "output_type": "stream",
     "text": [
      "[[ 572.  2870. ]\n",
      " [ 724.  2161. ]\n",
      " [ 648.  2515.5]]\n"
     ]
    }
   ],
   "source": [
    "# Solution\n",
    "\n",
    "print(np.matmul(m4,m3))\n"
   ]
  },
  {
   "cell_type": "markdown",
   "metadata": {},
   "source": [
    "#### 20. Compute the maximum and minimum value of mean, variance, standard deviation for each row of matrix created in question number 8."
   ]
  },
  {
   "cell_type": "code",
   "execution_count": 20,
   "metadata": {},
   "outputs": [
    {
     "name": "stdout",
     "output_type": "stream",
     "text": [
      "[[ 9 25 50 34 45]\n",
      " [ 3 34 34 65  2]\n",
      " [ 5  7  3 76  3]\n",
      " [ 7  8  6 54  6]\n",
      " [23 12  8  5  8]]\n",
      "Mean is:  [32.6 27.6 18.8 16.2 11.2] \n",
      "Max of mean is: 32.6 \n",
      "Min of mean is:  11.2\n",
      "\n",
      "Variance is:  [214.64 548.24 820.16 357.76  39.76] \n",
      "Max of variance is: 820.1600000000001 \n",
      "Min of variance is:  39.760000000000005\n",
      "\n",
      "Standard Deviation is:  [14.65059726 23.41452541 28.63843571 18.91454467  6.30555311] \n",
      "Max of std is: 28.63843571147 \n",
      "Min of std is:  6.305553108173779\n"
     ]
    }
   ],
   "source": [
    "# Solution\n",
    "\n",
    "nparray = np.array(([9, 25, 50, 34, 45], [3, 34, 34, 65, 2], [5, 7, 3, 76, 3], [7, 8, 6, 54, 6], [23, 12, 8, 5, 8]))\n",
    "print(nparray)\n",
    "mean = nparray.mean(axis=1)\n",
    "variance = nparray.var(axis=1)\n",
    "std = nparray.std(axis=1)\n",
    "print(\"Mean is: \",mean,\"\\nMax of mean is:\",np.max(mean),\"\\nMin of mean is: \",np.min(mean))\n",
    "print(\"\\nVariance is: \", variance,\"\\nMax of variance is:\",np.max(variance),\"\\nMin of variance is: \",np.min(variance))\n",
    "print(\"\\nStandard Deviation is: \", std,\"\\nMax of std is:\",np.max(std),\"\\nMin of std is: \",np.min(std))\n"
   ]
  },
  {
   "cell_type": "markdown",
   "metadata": {},
   "source": [
    "#### 21. Compute the average and strike rate for each player and sort it decending way (seperately for avg and strike rate)\n",
    "<img src = 'crick1.png'>"
   ]
  },
  {
   "cell_type": "code",
   "execution_count": 21,
   "metadata": {},
   "outputs": [
    {
     "name": "stdout",
     "output_type": "stream",
     "text": [
      "[[108.         142.85714286  45.45454545  83.33333333]\n",
      " [107.36842105  25.         120.          74.41860465]\n",
      " [ 33.33333333 110.          14.28571429  91.08910891]\n",
      " [207.40740741 200.         109.09090909 135.48387097]\n",
      " [ 50.          40.          61.11111111  40.74074074]]\n",
      "Average of each player runs and sorted in decending is :  [53.5  51.5  47.25 29.   13.25]\n",
      "Average of each player strike rate and sorted in decending is :  [162.99554687  94.91125541  81.69675643  62.17703913  47.96296296]\n"
     ]
    }
   ],
   "source": [
    "# Solution \n",
    "\n",
    "runs = np.array([[54,60,10,65],[102,2,78,32],[3,110,1,92],[56,6,12,42],[12,8,22,11]])\n",
    "balls = np.array([[50,42,22,78],[95,8,65,43],[9,100,7,101],[27,3,11,31],[24,20,36,27]])\n",
    "strike_rate = runs/balls*100\n",
    "print(strike_rate)\n",
    "print(\"Average of each player runs and sorted in decending is : \",np.sort(runs.mean(axis=1))[::-1])\n",
    "print(\"Average of each player strike rate and sorted in decending is : \",np.sort(strike_rate.mean(axis=1))[::-1])\n"
   ]
  },
  {
   "cell_type": "markdown",
   "metadata": {},
   "source": [
    "#### 22. The students mark was recorded in a numpy array: marks = np.array([65,84,47,56,89,98,48,77,80,39]).  Cutoff for pass is 50 marks. Write the logic to print the number of students passed and failed. "
   ]
  },
  {
   "cell_type": "code",
   "execution_count": 22,
   "metadata": {},
   "outputs": [
    {
     "name": "stdout",
     "output_type": "stream",
     "text": [
      "Number of students passed is  7\n",
      "Number of students failed is  3\n"
     ]
    }
   ],
   "source": [
    "# Solution\n",
    "\n",
    "marks = np.array([65,84,47,56,89,98,48,77,80,39])\n",
    "print(\"Number of students passed is \", len(marks[np.where(marks>=50)]))\n",
    "print(\"Number of students failed is \", len(marks[np.where(marks<50)]))\n"
   ]
  },
  {
   "cell_type": "markdown",
   "metadata": {},
   "source": [
    "#### 23. The class incharge decided to give a mercy mark of 5 for those who scored between 45 and 49. Also the bonus of 5 marks awarded to the students who scored more than 80. Print all the student marks and compute the increase in the pass percentage of class. Any score more than 100 must be recorded as only 100."
   ]
  },
  {
   "cell_type": "code",
   "execution_count": 23,
   "metadata": {},
   "outputs": [
    {
     "name": "stdout",
     "output_type": "stream",
     "text": [
      "Before adding mercy and bonus marks :  [65 84 47 56 89 98 48 77 80 39]\n",
      "After adding marks :  [ 65  89  52  56  94 100  53  77  80  39]\n",
      "Percentage increase after giving mercy marks is  28.57142857142857 %\n"
     ]
    }
   ],
   "source": [
    "# Solution\n",
    "\n",
    "print(\"Before adding mercy and bonus marks : \", marks)\n",
    "pass_percent = (marks[np.where(marks>=50)].size/marks.size)*100\n",
    "index = np.where(np.logical_or(np.logical_and(marks>=45,marks<=49),marks>80))\n",
    "marks[index] = marks[index]+5\n",
    "marks[np.where(marks>100)] = 100\n",
    "print(\"After adding marks : \", marks)\n",
    "new_percent = (marks[np.where(marks>=50)].size/marks.size)*100\n",
    "print(\"Percentage increase after giving mercy marks is \",(new_percent-pass_percent)/pass_percent*100,\"%\")\n"
   ]
  },
  {
   "cell_type": "markdown",
   "metadata": {},
   "source": [
    "#### 24. Print the time taken for performing the following operation using list and numpy array\n",
    "####       (x(i)^2 +8) / y(i),   where x and y are real integers from 1 to 60000"
   ]
  },
  {
   "cell_type": "code",
   "execution_count": 24,
   "metadata": {},
   "outputs": [
    {
     "name": "stdout",
     "output_type": "stream",
     "text": [
      "Using list\n",
      "Time taken for executing using list is  0.05349400000000004\n",
      "Using numpy array\n",
      "Time taken for executing using numpy array is  0.002402999999999933\n"
     ]
    }
   ],
   "source": [
    "# Solution\n",
    "\n",
    "import time\n",
    "print(\"Using list\")\n",
    "start = time.process_time()\n",
    "x = list(range(1,60001))\n",
    "y = list(range(1,60001))\n",
    "i = 5\n",
    "for x,y in zip(x,y):\n",
    "    expression = (x*(i**2)+8)/(y*i)\n",
    "print(\"Time taken for executing using list is \", time.process_time()-start)\n",
    "\n",
    "print(\"Using numpy array\")\n",
    "start = time.process_time()\n",
    "x = y = np.arange(1,60001,1)\n",
    "expression = (x*(i**2)+8)/(y*i)\n",
    "print(\"Time taken for executing using numpy array is \", time.process_time()-start)\n",
    "\n"
   ]
  },
  {
   "cell_type": "markdown",
   "metadata": {},
   "source": [
    "#### 25. Create a Github account and upload your solution with the short write-up on Numpy"
   ]
  },
  {
   "cell_type": "markdown",
   "metadata": {},
   "source": [
    "# Solution\n",
    "\n",
    "https://github.com/akashla500/Mtech_AI_PDS.git\n",
    "\n"
   ]
  }
 ],
 "metadata": {
  "kernelspec": {
   "display_name": "Python 3",
   "language": "python",
   "name": "python3"
  },
  "language_info": {
   "codemirror_mode": {
    "name": "ipython",
    "version": 3
   },
   "file_extension": ".py",
   "mimetype": "text/x-python",
   "name": "python",
   "nbconvert_exporter": "python",
   "pygments_lexer": "ipython3",
   "version": "3.8.8"
  }
 },
 "nbformat": 4,
 "nbformat_minor": 2
}
